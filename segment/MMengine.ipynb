{
 "cells": [
  {
   "cell_type": "code",
   "execution_count": null,
   "id": "1c03ac4b",
   "metadata": {},
   "outputs": [],
   "source": [
    "!pip install -U openmim\n",
    "!mim install mmengine\n",
    "!mim install \"mmcv>=2.0.0\"\n",
    "!git  clone  https://github.com/open-mmlab/mmsegmentation.git \n",
    "%cd  mmsegmentation\n",
    "!pip install -e ."
   ]
  },
  {
   "cell_type": "code",
   "execution_count": null,
   "id": "c57faf72",
   "metadata": {},
   "outputs": [],
   "source": [
    "# Check Pytorch installation检查\n",
    "import torch, torchvision\n",
    "print(torch.__version__, torch.cuda.is_available())\n",
    "import mmcv\n",
    "# Check MMSegmentation installation\n",
    "import mmseg\n",
    "print(mmseg.__version__)\n",
    "import os.path as osp\n",
    "import numpy as np\n",
    "from PIL import Image\n",
    "from mmseg.apis import inference_model, init_model, show_result_pyplot,MMSegInferencer\n",
    "import matplotlib.pyplot as plt\n",
    "from mmengine import Config\n",
    "from mmengine.runner import Runner\n"
   ]
  },
  {
   "cell_type": "code",
   "execution_count": null,
   "id": "fdfc7842",
   "metadata": {},
   "outputs": [],
   "source": [
    "pic_path ='/root/ADEChallengeData2016/images/training/ADE_train_00000023.jpg'\n",
    "config_file = '/root/mmsegmentation/configs/knet/knet-s3_r50-d8_pspnet_8xb2-adamw-80k_ade20k-512x512.py'\n",
    "checkpoint_file = '/root/knet_s3_pspnet_r50-d8_8x2_512x512_adamw_80k_ade20k_20220228_054634-d2c72240.pth'"
   ]
  },
  {
   "cell_type": "code",
   "execution_count": null,
   "id": "d0914170",
   "metadata": {},
   "outputs": [],
   "source": [
    "cfg = Config.fromfile(config_file)"
   ]
  },
  {
   "cell_type": "code",
   "execution_count": null,
   "id": "e199057d",
   "metadata": {},
   "outputs": [],
   "source": [
    "cfg.keys()"
   ]
  },
  {
   "cell_type": "code",
   "execution_count": null,
   "id": "1bae2124",
   "metadata": {},
   "outputs": [],
   "source": [
    "cfg.dataset_type"
   ]
  },
  {
   "cell_type": "code",
   "execution_count": null,
   "id": "973c1eee",
   "metadata": {},
   "outputs": [],
   "source": [
    "cfg.data_root = '/root/ADEChallengeData2016/'\n",
    "cfg.data_root"
   ]
  },
  {
   "cell_type": "code",
   "execution_count": null,
   "id": "5e1a0878",
   "metadata": {},
   "outputs": [],
   "source": [
    "cfg.crop_size"
   ]
  },
  {
   "cell_type": "code",
   "execution_count": null,
   "id": "f35e218c",
   "metadata": {},
   "outputs": [],
   "source": [
    "cfg.train_pipeline"
   ]
  },
  {
   "cell_type": "code",
   "execution_count": null,
   "id": "f22561d7",
   "metadata": {},
   "outputs": [],
   "source": [
    "cfg.test_pipeline"
   ]
  },
  {
   "cell_type": "code",
   "execution_count": null,
   "id": "2c478677",
   "metadata": {},
   "outputs": [],
   "source": [
    "cfg.img_ratios"
   ]
  },
  {
   "cell_type": "code",
   "execution_count": null,
   "id": "1d89ac6c",
   "metadata": {},
   "outputs": [],
   "source": [
    "cfg.tta_pipeline"
   ]
  },
  {
   "cell_type": "code",
   "execution_count": null,
   "id": "bb0fc088",
   "metadata": {},
   "outputs": [],
   "source": [
    "cfg.train_dataloader.dataset.data_root=cfg.data_root\n",
    "\n",
    "cfg.train_dataloader"
   ]
  },
  {
   "cell_type": "code",
   "execution_count": null,
   "id": "c5c1da5d",
   "metadata": {},
   "outputs": [],
   "source": [
    "cfg.train_cfg"
   ]
  },
  {
   "cell_type": "code",
   "execution_count": null,
   "id": "e3caa06f",
   "metadata": {},
   "outputs": [],
   "source": [
    "cfg.val_dataloader.dataset.data_root=cfg.data_root\n",
    "cfg.val_dataloader"
   ]
  },
  {
   "cell_type": "code",
   "execution_count": null,
   "id": "90b9bb93",
   "metadata": {},
   "outputs": [],
   "source": [
    "cfg.val_cfg"
   ]
  },
  {
   "cell_type": "code",
   "execution_count": null,
   "id": "05ca46ae",
   "metadata": {},
   "outputs": [],
   "source": [
    "cfg.val_evaluator"
   ]
  },
  {
   "cell_type": "code",
   "execution_count": null,
   "id": "85170f3e",
   "metadata": {},
   "outputs": [],
   "source": [
    "cfg.test_dataloader.dataset.data_root=cfg.data_root\n",
    "cfg.test_dataloader"
   ]
  },
  {
   "cell_type": "code",
   "execution_count": null,
   "id": "c37457d2",
   "metadata": {},
   "outputs": [],
   "source": [
    "cfg.test_evaluator"
   ]
  },
  {
   "cell_type": "code",
   "execution_count": null,
   "id": "8fc3d50d",
   "metadata": {},
   "outputs": [],
   "source": [
    "cfg.test_cfg"
   ]
  },
  {
   "cell_type": "code",
   "execution_count": null,
   "id": "dc2cac8c",
   "metadata": {},
   "outputs": [],
   "source": [
    "cfg.default_scope"
   ]
  },
  {
   "cell_type": "code",
   "execution_count": null,
   "id": "7a1296f5",
   "metadata": {},
   "outputs": [],
   "source": [
    "cfg.env_cfg"
   ]
  },
  {
   "cell_type": "code",
   "execution_count": null,
   "id": "6d6b2800",
   "metadata": {},
   "outputs": [],
   "source": [
    "cfg.vis_backends"
   ]
  },
  {
   "cell_type": "code",
   "execution_count": null,
   "id": "964d18d6",
   "metadata": {},
   "outputs": [],
   "source": [
    "cfg.visualizer"
   ]
  },
  {
   "cell_type": "code",
   "execution_count": null,
   "id": "e3f056ca",
   "metadata": {},
   "outputs": [],
   "source": [
    "cfg.default_hooks.logger.interval=10\n",
    "cfg.default_hooks"
   ]
  },
  {
   "cell_type": "code",
   "execution_count": null,
   "id": "fe11155d",
   "metadata": {},
   "outputs": [],
   "source": [
    "cfg.data_preprocessor"
   ]
  },
  {
   "cell_type": "code",
   "execution_count": null,
   "id": "2b06d3c5",
   "metadata": {},
   "outputs": [],
   "source": [
    "cfg.norm_cfg"
   ]
  },
  {
   "cell_type": "code",
   "execution_count": null,
   "id": "c4b0f5f4",
   "metadata": {},
   "outputs": [],
   "source": [
    "cfg.num_stages"
   ]
  },
  {
   "cell_type": "code",
   "execution_count": null,
   "id": "b03514e2",
   "metadata": {},
   "outputs": [],
   "source": [
    "cfg.conv_kernel_size"
   ]
  },
  {
   "cell_type": "code",
   "execution_count": null,
   "id": "295ed02b",
   "metadata": {},
   "outputs": [],
   "source": [
    "cfg.work_dir='/root/work_dir/'"
   ]
  },
  {
   "cell_type": "code",
   "execution_count": null,
   "id": "cd02115d",
   "metadata": {},
   "outputs": [],
   "source": [
    "cfg.model"
   ]
  },
  {
   "cell_type": "code",
   "execution_count": null,
   "id": "e1799c06",
   "metadata": {},
   "outputs": [],
   "source": [
    "runner=Runner.from_cfg(cfg)"
   ]
  },
  {
   "cell_type": "code",
   "execution_count": null,
   "id": "d2392ff9",
   "metadata": {},
   "outputs": [],
   "source": [
    "runner.train()"
   ]
  },
  {
   "cell_type": "markdown",
   "id": "2c539063",
   "metadata": {},
   "source": [
    "# 导出并部署"
   ]
  },
  {
   "cell_type": "code",
   "execution_count": null,
   "id": "9dd87ab7",
   "metadata": {},
   "outputs": [],
   "source": [
    "from mmdeploy.apis import torch2onnx\n",
    "work_dir = '/root'\n",
    "save_file = 'knet.onnx'\n",
    "model_checkpoint = ('checkpoints/fcos_r50_caffe_fpn_gn-head_1x_coco-821213aa.pth')\n",
    "deploy_cfg = '/root/mmdeploy/configs/mmseg/segmentation_onnxruntime_dynamic.py'\n",
    "device = 'cpu'\n",
    "torch2onnx(    img=pic_path,\n",
    "    work_dir=work_dir,\n",
    "    save_file=save_file,\n",
    "    deploy_cfg=deploy_cfg,\n",
    "    model_cfg=config_file,\n",
    "    model_checkpoint=checkpoint_file,\n",
    "    device='cpu')"
   ]
  },
  {
   "cell_type": "code",
   "execution_count": null,
   "id": "77a12ab4",
   "metadata": {},
   "outputs": [],
   "source": []
  },
  {
   "cell_type": "code",
   "execution_count": null,
   "id": "03f4ca5f",
   "metadata": {},
   "outputs": [],
   "source": []
  }
 ],
 "metadata": {
  "kernelspec": {
   "display_name": "Python 3 (ipykernel)",
   "language": "python",
   "name": "python3"
  },
  "language_info": {
   "codemirror_mode": {
    "name": "ipython",
    "version": 3
   },
   "file_extension": ".py",
   "mimetype": "text/x-python",
   "name": "python",
   "nbconvert_exporter": "python",
   "pygments_lexer": "ipython3",
   "version": "3.10.0"
  }
 },
 "nbformat": 4,
 "nbformat_minor": 5
}
