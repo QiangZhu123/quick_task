{
 "cells": [
  {
   "cell_type": "markdown",
   "id": "93ff61ea",
   "metadata": {},
   "source": [
    "# API\n",
    "    get_model是用给定参数直接实例化模型出来\n",
    "    inference_model,是根据给定参数，直接实例化一个特定任务推断类\n",
    "    list_models 显示所有模型\n",
    "    \n",
    "    baseinference:\n",
    "        1 先用pipeline处理输如\n",
    "        2 调用模型的test_step\n",
    "        3 可视化,输出可视化结果\n",
    "        4 保存输出"
   ]
  },
  {
   "cell_type": "markdown",
   "id": "5ce343aa",
   "metadata": {},
   "source": [
    "# Dataset\n",
    "    基类在mmengine中，先解读出[{}]数据的data_lists\n",
    "    然后给定pipeline\n",
    "    每个pipeline的处理是继承transform,实现transoform函数集合\n",
    "    ，对于图片要处理'img'，\n",
    "    最后接入模型的样本打包格式是{'img':tensor,'data_samples':sample}\n",
    "    \n",
    "    "
   ]
  },
  {
   "cell_type": "markdown",
   "id": "70593b94",
   "metadata": {},
   "source": [
    "# model\n",
    "    基类BaseModel实现了一个模型的基本方法\n",
    "     parse_losses --> train_step-----|  \n",
    "                val_step-------|------> _run_forward \n",
    "                test_step------|\n",
    "                \n",
    "                \n",
    "    那么模型的执行分为,注意，这些函数是包含执行data_processor的，如果只调用模型，必须手动执行数据\n",
    "    的预处理\n",
    "        model.train_step(data)\n",
    "        model.val_step(data)\n",
    "        model.test_step(data)\n",
    "                \n",
    "    所有的模型都是继承BaseModel，构建模型各个组件        \n",
    "                \n",
    "    数据要先用mmengine.data_processor进行处理，先移动数据到设备上，再标准化后，堆叠成张量，所以它没有\n",
    "    常规数据使用到的collect_fn，而是将他放到设备上执行。生成{'inputs':data,'data_samples':data}\n",
    "     \n",
    "     要继承BaseModel，必须去实现方法给train_step等函数使用，包括\n",
    "     loss，计算结果，计算损失\n",
    "     predict，计算结果，解码\n",
    "     forward 根据不同模式返回 结果\n",
    "     三个函数\n",
    "\n",
    "# module \n",
    "    模型组件继承自BaseModule，主要作用是用于初始化模块权重\n",
    "    这里head可以放loss计算和predict函数，也可以直接写在模型主类中。\n",
    "    \n",
    "    "
   ]
  },
  {
   "cell_type": "code",
   "execution_count": null,
   "id": "b643bc20",
   "metadata": {},
   "outputs": [],
   "source": []
  },
  {
   "cell_type": "code",
   "execution_count": null,
   "id": "a33c0dde",
   "metadata": {},
   "outputs": [],
   "source": []
  },
  {
   "cell_type": "code",
   "execution_count": null,
   "id": "06f8610b",
   "metadata": {},
   "outputs": [],
   "source": []
  },
  {
   "cell_type": "code",
   "execution_count": null,
   "id": "9bd8f56c",
   "metadata": {},
   "outputs": [],
   "source": []
  }
 ],
 "metadata": {
  "kernelspec": {
   "display_name": "Python 3 (ipykernel)",
   "language": "python",
   "name": "python3"
  },
  "language_info": {
   "codemirror_mode": {
    "name": "ipython",
    "version": 3
   },
   "file_extension": ".py",
   "mimetype": "text/x-python",
   "name": "python",
   "nbconvert_exporter": "python",
   "pygments_lexer": "ipython3",
   "version": "3.10.0"
  }
 },
 "nbformat": 4,
 "nbformat_minor": 5
}
