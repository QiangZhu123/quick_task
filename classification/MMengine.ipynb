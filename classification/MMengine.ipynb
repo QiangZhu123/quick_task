{
 "cells": [
  {
   "cell_type": "markdown",
   "id": "6a4db0a1",
   "metadata": {},
   "source": [
    "!pip install -U openmim\n",
    "!mim install mmengine\n",
    "!mim install mmcv\n",
    "!git clone https://github.com/open-mmlab/mmpretrain.git\n",
    "%cd mmpretrain\n",
    "!pip install -e . "
   ]
  },
  {
   "cell_type": "code",
   "execution_count": null,
   "id": "923b60ad",
   "metadata": {},
   "outputs": [],
   "source": [
    "import numpy as np\n",
    "import mmcv\n",
    "import torch\n",
    "from torch import nn\n",
    "#from torchvision import transforms,datasets\n",
    "from mmengine import Config\n",
    "from mmengine.runner import Runner\n",
    "\n",
    "from mmpretrain import list_models,get_model,ImageClassificationInferencer\n",
    "#inference_model每次都要初始化模型，不好用，所以直接用任务自带的类执行推理"
   ]
  },
  {
   "cell_type": "code",
   "execution_count": null,
   "id": "98a2f015",
   "metadata": {},
   "outputs": [],
   "source": [
    "img = '/root/VOC2012/JPEGImages/2007_000027.jpg'\n",
    "#list_models()\n",
    "model = get_model('vgg11_8xb32_in1k',pretrained=True)#也可以给定权重"
   ]
  },
  {
   "cell_type": "code",
   "execution_count": null,
   "id": "9b94f166",
   "metadata": {},
   "outputs": [],
   "source": [
    "infer = ImageClassificationInferencer(model)\n",
    "infer(img)[0]"
   ]
  },
  {
   "cell_type": "code",
   "execution_count": null,
   "id": "574c6b49",
   "metadata": {},
   "outputs": [],
   "source": [
    "#可视化特征图\n",
    "# pip install grad-cam\n",
    "python tools/visualization/vis_cam.py \\\n",
    "   demo/bird.JPEG 图片\\\n",
    "   configs/vision_transformer/vit-base-p16_64xb64_in1k-384px.py 模型\\\n",
    "   https://download.openmmlab.com/mmclassification/v0/vit/finetune/vit-base-p16_in21k-pre-3rdparty_ft-64xb64_in1k-384_20210928-98e8652b.pth 参数 \\\n",
    "   --vit-like \\\n",
    "   --target-layers 'backbone.layers.11.ln1'#指定一层特征\n",
    "    --preview-model#查看所有层的名字\n",
    "     --method GradCAM\n",
    "   # GradCAM++, XGradCAM, EigenCAM, EigenGradCAM, LayerCAM"
   ]
  },
  {
   "cell_type": "code",
   "execution_count": null,
   "id": "675d1a94",
   "metadata": {},
   "outputs": [],
   "source": [
    "#看学习率的变化情况\n",
    "python tools/visualization/vis_scheduler.py \\\n",
    "configs/swin_transformer/swin-base_16xb64_in1k.py \\\n",
    "--dataset-size 1281167 --ngpus 16"
   ]
  },
  {
   "cell_type": "markdown",
   "id": "1c5881b8",
   "metadata": {},
   "source": [
    "##### 以参数为主要任务，可以直接修改cfg文件，可以载入后再修改，反正传入的是个类"
   ]
  },
  {
   "cell_type": "code",
   "execution_count": null,
   "id": "f2d8a021",
   "metadata": {},
   "outputs": [],
   "source": [
    "cfg = Config.fromfile('/root/mmpretrain/configs/resnext/resnext50-32x4d_8xb32_in1k.py')\n",
    "cfg.seed = 0\n",
    "cfg.gpu_ids = [0]#设备指定\n",
    "cfg.device='cuda'"
   ]
  },
  {
   "cell_type": "code",
   "execution_count": null,
   "id": "b06cea76",
   "metadata": {},
   "outputs": [],
   "source": [
    "#参数\n",
    "cfg.model.head.num_classes=10\n",
    "cfg.model"
   ]
  },
  {
   "cell_type": "code",
   "execution_count": null,
   "id": "e2adfecb",
   "metadata": {},
   "outputs": [],
   "source": [
    "#方便修改LOADER中的类型\n",
    "cfg.dataset_type='VOC'\n",
    "cfg.dataset_type"
   ]
  },
  {
   "cell_type": "code",
   "execution_count": null,
   "id": "d8473859",
   "metadata": {},
   "outputs": [],
   "source": [
    "#数据预处理\n",
    "cfg['data_preprocessor'].num_classes=10\n",
    "cfg['data_preprocessor']"
   ]
  },
  {
   "cell_type": "code",
   "execution_count": null,
   "id": "96bdfc83",
   "metadata": {},
   "outputs": [],
   "source": [
    "#给loader用的\n",
    "cfg.train_pipeline\n",
    "cfg.test_pipeline"
   ]
  },
  {
   "cell_type": "code",
   "execution_count": null,
   "id": "8931f335",
   "metadata": {},
   "outputs": [],
   "source": [
    "#训练集不是设置dataset,而是直接设置loader\n",
    "\n",
    "cfg.train_dataloader.dataset.type='VOC'\n",
    "cfg.train_dataloader.dataset.data_root='/root/VOC2012/'\n",
    "cfg.train_dataloader.dataset.pipeline = cfg.train_pipeline\n",
    "cfg.train_dataloader"
   ]
  },
  {
   "cell_type": "code",
   "execution_count": null,
   "id": "0ece1fca",
   "metadata": {},
   "outputs": [],
   "source": [
    "cfg.train_cfg"
   ]
  },
  {
   "cell_type": "code",
   "execution_count": null,
   "id": "5e873cf8",
   "metadata": {},
   "outputs": [],
   "source": [
    "#cfg.val_dataloader.dataset.type='VOC'\n",
    "#cfg.val_dataloader.dataset.data_root='/root/VOC2012/'\n",
    "#cfg.val_dataloader.dataset.pipeline = cfg.val_dataloader\n",
    "cfg.val_dataloader=None"
   ]
  },
  {
   "cell_type": "code",
   "execution_count": null,
   "id": "3d448c61",
   "metadata": {},
   "outputs": [],
   "source": [
    "cfg.val_evaluator=None\n",
    "cfg.val_cfg=None"
   ]
  },
  {
   "cell_type": "code",
   "execution_count": null,
   "id": "296222e4",
   "metadata": {},
   "outputs": [],
   "source": [
    "cfg.test_dataloader.dataset.type='VOC'\n",
    "cfg.test_dataloader.dataset.data_root='/root/VOC2012/'\n",
    "cfg.test_dataloader.dataset.pipeline = cfg.test_pipeline\n",
    "cfg.test_dataloader"
   ]
  },
  {
   "cell_type": "code",
   "execution_count": null,
   "id": "1618c545",
   "metadata": {},
   "outputs": [],
   "source": [
    "cfg.optim_wrapper"
   ]
  },
  {
   "cell_type": "code",
   "execution_count": null,
   "id": "adafa6fd",
   "metadata": {},
   "outputs": [],
   "source": [
    "#学习率变化\n",
    "cfg.param_scheduler"
   ]
  },
  {
   "cell_type": "code",
   "execution_count": null,
   "id": "d6e40bc6",
   "metadata": {},
   "outputs": [],
   "source": [
    "#具体训练形式\n",
    "cfg.train_cfg\n",
    "cfg.val_cfg\n",
    "cfg.test_cfg"
   ]
  },
  {
   "cell_type": "code",
   "execution_count": null,
   "id": "59fe9683",
   "metadata": {},
   "outputs": [],
   "source": [
    "#自动缩放学习率，按batch大小决定\n",
    "cfg.auto_scale_lr"
   ]
  },
  {
   "cell_type": "code",
   "execution_count": null,
   "id": "6ccdfe58",
   "metadata": {},
   "outputs": [],
   "source": [
    "cfg.default_scope"
   ]
  },
  {
   "cell_type": "code",
   "execution_count": null,
   "id": "539fc2b9",
   "metadata": {},
   "outputs": [],
   "source": [
    "#钩子\n",
    "cfg.default_hooks"
   ]
  },
  {
   "cell_type": "code",
   "execution_count": null,
   "id": "b2663908",
   "metadata": {},
   "outputs": [],
   "source": [
    "#唤醒参数\n",
    "cfg.env_cfg"
   ]
  },
  {
   "cell_type": "code",
   "execution_count": null,
   "id": "e3e3130d",
   "metadata": {},
   "outputs": [],
   "source": [
    "cfg.vis_backends\n",
    "#可以有多个后端\n",
    "#WandbVisBackend\n",
    "#TensorboardVisBackend\n",
    "#MLflowVisBackend\n",
    "#ClearMLVisBackend\n",
    "#NeptuneVisBackend\n",
    "#DVCLiveVisBackend\n",
    "#AimVisBackend\n",
    "#LocalVisBackend"
   ]
  },
  {
   "cell_type": "code",
   "execution_count": null,
   "id": "8e58b5c0",
   "metadata": {},
   "outputs": [],
   "source": [
    "cfg.visualizer\n",
    "#不同任务有单独的"
   ]
  },
  {
   "cell_type": "code",
   "execution_count": null,
   "id": "0fe8d582",
   "metadata": {},
   "outputs": [],
   "source": [
    "cfg.log_level"
   ]
  },
  {
   "cell_type": "code",
   "execution_count": null,
   "id": "18ff9ec8",
   "metadata": {},
   "outputs": [],
   "source": [
    "#这是从给定的继续\n",
    "cfg.load_from\n",
    "#这是继续\n",
    "cfg.resume"
   ]
  },
  {
   "cell_type": "code",
   "execution_count": null,
   "id": "e55e6cb8",
   "metadata": {},
   "outputs": [],
   "source": [
    "cfg.randomness"
   ]
  },
  {
   "cell_type": "code",
   "execution_count": null,
   "id": "647caf14",
   "metadata": {},
   "outputs": [],
   "source": [
    "cfg.seed"
   ]
  },
  {
   "cell_type": "code",
   "execution_count": null,
   "id": "0da2d733",
   "metadata": {},
   "outputs": [],
   "source": [
    "cfg.gpu_ids"
   ]
  },
  {
   "cell_type": "code",
   "execution_count": null,
   "id": "69d10894",
   "metadata": {},
   "outputs": [],
   "source": [
    "cfg.device"
   ]
  },
  {
   "cell_type": "code",
   "execution_count": null,
   "id": "c7a4c6c3",
   "metadata": {},
   "outputs": [],
   "source": [
    "cfg.work_dir=''"
   ]
  },
  {
   "cell_type": "code",
   "execution_count": null,
   "id": "601c3057",
   "metadata": {},
   "outputs": [],
   "source": [
    "runner=Runner.from_cfg(cfg)"
   ]
  },
  {
   "cell_type": "code",
   "execution_count": null,
   "id": "df49ad03",
   "metadata": {},
   "outputs": [],
   "source": [
    "runner.train()"
   ]
  },
  {
   "cell_type": "code",
   "execution_count": null,
   "id": "0029c49e",
   "metadata": {},
   "outputs": [],
   "source": [
    "runner.val()"
   ]
  },
  {
   "cell_type": "code",
   "execution_count": null,
   "id": "7bdff899",
   "metadata": {},
   "outputs": [],
   "source": []
  },
  {
   "cell_type": "markdown",
   "id": "d995df8b",
   "metadata": {},
   "source": [
    "# 1 读取参数文件"
   ]
  },
  {
   "cell_type": "code",
   "execution_count": null,
   "id": "551b30b9",
   "metadata": {},
   "outputs": [],
   "source": [
    "\n",
    "#读取所有的参数,参数文件就在当下文件夹中\n",
    "cfg = Config.fromfile('./configs/resnext/resnext50_32x4d_b32x8_imagenet.py')\n",
    "cfg.seed = 0\n",
    "cfg.gpu_ids = [0]#设备指定m\n",
    "cfg.device='cuda'"
   ]
  },
  {
   "cell_type": "markdown",
   "id": "70240539",
   "metadata": {},
   "source": [
    "# 2 使用模型"
   ]
  },
  {
   "cell_type": "code",
   "execution_count": null,
   "id": "27574116",
   "metadata": {},
   "outputs": [],
   "source": [
    "#模型修改\n",
    "cfg.model.head.num_classes = 10 \n",
    "#MIXup\n",
    "cfg.model['train_cfg']=dict(\n",
    "        augments=dict(type='BatchMixup', alpha=0.2, num_classes=10,\n",
    "                      prob=1.))\n",
    "#Labelsmooth\n",
    "cfg.model.head.loss = {'type': 'LabelSmoothLoss', 'loss_weight': 1.0,'label_smooth_val':0.1}\n",
    " "
   ]
  },
  {
   "cell_type": "markdown",
   "id": "f8472ed8",
   "metadata": {},
   "source": [
    "# 3数据集"
   ]
  },
  {
   "cell_type": "code",
   "execution_count": null,
   "id": "946ec16c",
   "metadata": {},
   "outputs": [],
   "source": [
    "#数据路径\n",
    "training_data_path='/kaggle/input/10-monkey-species/training/training/'\n",
    "valid_data_path='/kaggle/input/10-monkey-species/validation/validation/'"
   ]
  },
  {
   "cell_type": "code",
   "execution_count": null,
   "id": "7c476a56",
   "metadata": {},
   "outputs": [],
   "source": [
    "from mmpretrain.registry import DATASETS\n",
    "from torch.utils.data import Dataset\n",
    "from mmengine.dataset import Compose\n",
    "data = load_dataset('biglam/illustrated_ads')\n",
    "data_split=data['train'].train_test_split(test_size=0.2)\n",
    "transform =[]\n",
    "for i in config['train_pipeline']:\n",
    "    transform.append(TRANSFORMS.build(i))\n",
    "@DATASETS.register_module()\n",
    "class TEXTID(Dataset):\n",
    "    def __init__(self,data,transform):\n",
    "        super().__init__()\n",
    "        self.data = data\n",
    "        self.pipeline = Compose(transform)\n",
    "    def __getitem__(self,index):\n",
    "        result = {'img':self.data[index]['image'],'gt_label':self.data[index]['label']}\n",
    "        out =self.pipeline(result)\n",
    "        return out\n",
    "    def __len__(self):\n",
    "        return len(self.data)\n",
    "    \n",
    "    "
   ]
  },
  {
   "cell_type": "code",
   "execution_count": null,
   "id": "a109b64a",
   "metadata": {},
   "outputs": [],
   "source": [
    "cfg.dataset_type = 'CustomDataset'\n",
    "#现在不再需要构造data，直接构造dataloader了\n",
    "\n",
    "\n",
    "train_dataloader = Runner.build_dataloader(\n",
    "            cfg.data.train,\n",
    "            cfg.data.samples_per_gpu,\n",
    "            cfg.data.workers_per_gpu,\n",
    "            # cfg.gpus will be ignored if distributed\n",
    "            num_gpus=len(cfg.gpu_ids),\n",
    "            dist=False,\n",
    "            round_up=True,\n",
    "            seed=cfg.seed,\n",
    "            sampler_cfg=None) \n",
    "val_dataset = build_dataset(cfg.data.val)\n",
    "\n",
    "val_dataloader =build_dataloader(\n",
    "            cfg.val_data,\n",
    "            cfg.data.samples_per_gpu,\n",
    "            cfg.data.workers_per_gpu,\n",
    "            # cfg.gpus will be ignored if distributed\n",
    "            num_gpus=len(cfg.gpu_ids),\n",
    "            dist=False,\n",
    "            round_up=True,\n",
    "            seed=cfg.seed,\n",
    "            sampler_cfg=None) "
   ]
  },
  {
   "cell_type": "markdown",
   "id": "fa8c2ad4",
   "metadata": {},
   "source": [
    "# 4 优化器封装"
   ]
  },
  {
   "cell_type": "code",
   "execution_count": null,
   "id": "5d9d3471",
   "metadata": {},
   "outputs": [],
   "source": [
    "#optimizer = torch.optim.SGD(mymodel.parameters(), lr=0.01, momentum=0.9)\n",
    "#optim_wrapper=dict(optimizer=optimizer)\n",
    "#optimizer_2 =  torch.optim.SGD(mymodel.parameters(), lr=0.01, momentum=0.9)\n",
    "#optim_wrapper_2=dict(optimizer=optimizer_2)\n",
    "#optim_dict = OptimWrapperDict(gen=optim_wrapper, disc=optim_wrapper_2)\n",
    "\n",
    "cfg.optimizer['lr']=0.1*cfg.data['samples_per_gpu']/256\n",
    "#字典形式\n",
    "optimizer = cfg.optimizer \n",
    "optim_wrapper = dict(type='OptimWrapper', optimizer=optimizer)\n",
    "#混合精度封装\n",
    "#optim_wrapper = dict(type='AmpOptimWrapper', optimizer=optimizer, accumulative_counts=2)\n",
    "#分段切割模型优化器\n",
    "#optimizer = SGD([{'params': model.backbone.parameters()},\n",
    " #                 {'params': model.head.parameters(), 'lr': 1e-3}],\n",
    "#                  lr=0.01,momentum=0.9)"
   ]
  },
  {
   "cell_type": "markdown",
   "id": "ef86e675",
   "metadata": {},
   "source": [
    "# 5优化器参数调整"
   ]
  },
  {
   "cell_type": "code",
   "execution_count": null,
   "id": "b564e882",
   "metadata": {},
   "outputs": [],
   "source": [
    "#scheduler = MultiStepLR(optimizer, milestones=[8, 11], gamma=0.1)\n",
    "#scheduler = dict(type='CosineAnnealingLR', by_epoch=True, T_max=12, convert_to_iter_based=True)\n",
    "\n",
    "#多阶段参数变化\n",
    "scheduler = [\n",
    "    # 线性学习率预热调度器\n",
    "    dict(type='LinearLR',\n",
    "         start_factor=0.001,\n",
    "         by_epoch=False,  # 按迭代更新学习率\n",
    "         begin=0,\n",
    "         end=50),  # 预热前 50 次迭代\n",
    "    # 主学习率调度器\n",
    "    dict(type='MultiStepLR',\n",
    "         by_epoch=True,  # 按轮次更新学习率\n",
    "         milestones=[8, 11],\n",
    "         gamma=0.1,\n",
    "         begin=50,\n",
    "         end=900)\n",
    "]"
   ]
  },
  {
   "cell_type": "markdown",
   "id": "2594ad02",
   "metadata": {},
   "source": [
    "# 修改钩子"
   ]
  },
  {
   "cell_type": "code",
   "execution_count": null,
   "id": "153afc43",
   "metadata": {},
   "outputs": [],
   "source": [
    "default_hooks = dict(\n",
    "    runtime_info=dict(type='RuntimeInfoHook'),\n",
    "    timer=dict(type='IterTimerHook'),\n",
    "    #sampler_seed=dict(type='DistSamplerSeedHook'),\n",
    "    #logger=dict(type='LoggerHook'),\n",
    "    param_scheduler=dict(type='ParamSchedulerHook'),\n",
    "    checkpoint=dict(type='CheckpointHook', interval=2),\n",
    "    #cfg.checkpoint_config.interval = 12\n",
    ")"
   ]
  },
  {
   "cell_type": "markdown",
   "id": "c3aa3682",
   "metadata": {},
   "source": [
    "# 评估标准"
   ]
  },
  {
   "cell_type": "code",
   "execution_count": null,
   "id": "031d2630",
   "metadata": {},
   "outputs": [],
   "source": [
    "\n",
    "#METRICS._module_dict.pop('Accuracy')\n",
    "@METRICS.register_module()  # 将 Accuracy 类注册到 METRICS 注册器\n",
    "class Accuracy(BaseMetric):\n",
    "    default_prefix = 'ACC'  # 设置 default_prefix\n",
    "    def process(self, data_batch: Sequence[dict], predictions: Sequence[dict]):\n",
    "        #process(data_samples=outputs, data_batch=data_batch)\n",
    "        # 取出分类预测结果和类别标签\n",
    "        result = {\n",
    "            'pred': predictions,\n",
    "            'gt': data_batch['gt_label']\n",
    "        }\n",
    "\n",
    "        # 将当前 batch 的结果存进 self.results\n",
    "        self.results.append(result)\n",
    "\n",
    "    def compute_metrics(self, results: List):\n",
    "        # 汇总所有样本的分类预测结果和类别标签\n",
    "        preds = np.concatenate([res['pred'] for res in results])\n",
    "        gts = np.concatenate([res['gt'] for res in results])\n",
    "        # 计算分类正确率\n",
    "        acc = (preds == gts).sum() / preds.size\n",
    "        # 返回评测指标结果\n",
    "        return {'accuracy': acc}"
   ]
  },
  {
   "cell_type": "code",
   "execution_count": null,
   "id": "267af808",
   "metadata": {},
   "outputs": [],
   "source": [
    "randomness=dict(seed=1, deterministic=True, diff_rank_seed=False)"
   ]
  },
  {
   "cell_type": "code",
   "execution_count": null,
   "id": "d5888015",
   "metadata": {},
   "outputs": [],
   "source": [
    "train_cfg = dict(\n",
    "    by_epoch=True,\n",
    "    max_epochs=100,\n",
    "    val_begin=1,  # 从第 20 个 epoch 开始验证\n",
    "    val_interval=2  # 每隔一个 epoch 进行一次验证\n",
    ")\n",
    "#没有的话要全部设为None\n",
    "val_cfg = dict()\n",
    "val_evaluator = dict(type='Accuracy')\n",
    "\n",
    "test_cfg = dict()\n",
    "test_evaluator = dict(type='Accuracy')\n",
    "# 初始化执行器\n",
    "runner = Runner(mymodel,\n",
    "                work_dir='./train_mnist',  # 工作目录，用于保存模型和日志\n",
    "                train_cfg=train_cfg,       #训练的流程\n",
    "                train_dataloader=train_dataloader,  \n",
    "                \n",
    "                val_dataloader=val_dataloader,\n",
    "                val_cfg=val_cfg,\n",
    "                val_evaluator=val_evaluator,\n",
    "                \n",
    "                test_dataloader=val_dataloader,\n",
    "                test_cfg=val_cfg,\n",
    "                test_evaluator=val_evaluator,  \n",
    "                \n",
    "                #randomness=randomness,  # 配置随机种子\n",
    "                #env_cfg=env_cfg,  # 配置环境变量\n",
    "                \n",
    "                optim_wrapper=optim_wrapper,\n",
    "                param_scheduler=scheduler,\n",
    "                default_hooks=default_hooks,\n",
    "               #load_from='./train_mnist/epoch_2.pth',\n",
    "               #resume=True\n",
    "               )\n",
    "# 执行训练\n",
    "runner.train()"
   ]
  },
  {
   "cell_type": "code",
   "execution_count": null,
   "id": "63d11a6c",
   "metadata": {},
   "outputs": [],
   "source": [
    "#测试\n",
    "#test_cfg = dict()\n",
    "#test_evaluator = dict(type='Accuracy')\n",
    "#runner = Runner(model=mymodel, test_dataloader=test_dataloader, test_evaluator=test_evaluator,test_cfg=test_cfg,\n",
    "#                load_from='./train_mnist/epoch_2.pth', work_dir='./test_mnist')\n",
    "\n",
    "# 执行测试\n",
    "runner.test()"
   ]
  },
  {
   "cell_type": "markdown",
   "id": "61e2fd4c",
   "metadata": {},
   "source": [
    "# 绘制工具"
   ]
  },
  {
   "cell_type": "code",
   "execution_count": 40,
   "id": "9f12691d",
   "metadata": {},
   "outputs": [],
   "source": [
    "from mmengine.visualization import Visualizer\n",
    "import mmcv\n",
    "import torch\n",
    "import numpy as np"
   ]
  },
  {
   "cell_type": "code",
   "execution_count": 8,
   "id": "abcf6d5a",
   "metadata": {},
   "outputs": [],
   "source": [
    "img = mmcv.imread('E:\\dog.jpg',channel_order='rgb')"
   ]
  },
  {
   "cell_type": "code",
   "execution_count": 44,
   "id": "eeab99f1",
   "metadata": {},
   "outputs": [],
   "source": [
    "vis  = Visualizer(image = img)"
   ]
  },
  {
   "cell_type": "code",
   "execution_count": 53,
   "id": "629af604",
   "metadata": {},
   "outputs": [],
   "source": [
    "#vis.draw_texts(texts='the dog is running',positions=torch.tensor([10,20]),)\n",
    "#vis.draw_polygons(np.array([[12,20],[20,40],[40,100],[100,80]]))\n",
    "#vis.draw_bboxes(np.array([[10,20,30,40],[80,100,120,140]]))\n",
    "#vis.draw_lines(np.array([16,39]),np.array([400,500]))\n",
    "#和原图一样大的mask\n",
    "#vis.draw_binary_masks(torch.ones(576,768,dtype=torch.bool))\n",
    "#vis.show()"
   ]
  },
  {
   "cell_type": "markdown",
   "id": "3cb3a2c2",
   "metadata": {},
   "source": [
    "# 单机多卡"
   ]
  },
  {
   "cell_type": "code",
   "execution_count": null,
   "id": "c4ebc37c",
   "metadata": {},
   "outputs": [],
   "source": [
    "python -m torch.distributed.launch --nproc_per_node=8 examples/train.py --launcher pytorch"
   ]
  },
  {
   "cell_type": "markdown",
   "id": "5be3d24e",
   "metadata": {},
   "source": [
    "# 部署 onnx"
   ]
  },
  {
   "cell_type": "code",
   "execution_count": null,
   "id": "f7377138",
   "metadata": {},
   "outputs": [],
   "source": [
    "from mmdeploy.apis import torch2onnx\n",
    "img = 'demo.jpg'\n",
    "work_dir = 'work_dir'\n",
    "save_file = 'fcos.onnx'\n",
    "deploy_cfg = ('configs/mmdet/detection/detection_onnxruntime_dynamic.py')\n",
    "model_cfg = ('mmdetection/configs/fcos/fcos_r50_caffe_fpn_gn-head_1x_coco.py')\n",
    "#model_checkpoint = ('checkpoints/fcos_r50_caffe_fpn_gn-head_1x_coco-821213aa.pth')\n",
    "#device = 'cpu'\n",
    "torch2onnx(img, work_dir, save_file, deploy_cfg, model_cfg, \n",
    "          # model_checkpoint, device\n",
    "          )"
   ]
  },
  {
   "cell_type": "code",
   "execution_count": null,
   "id": "c6d0f924",
   "metadata": {},
   "outputs": [],
   "source": [
    "import gradio as gr\n",
    "#输入文本处理程序\n",
    "def greet(name):\n",
    "    return \"Hello \" + name + \"!\"\n",
    "#接口创建函数\n",
    "#fn设置处理函数，inputs设置输入接口组件，outputs设置输出接口组件\n",
    "#fn,inputs,outputs都是必填函数\n",
    "demo = gr.Interface(fn=greet, \n",
    "                    inputs=[\"text\",\"image\"], \n",
    "                    outputs=[\"text\"])\n",
    "demo.launch()"
   ]
  },
  {
   "cell_type": "code",
   "execution_count": null,
   "id": "a3c7927a",
   "metadata": {},
   "outputs": [],
   "source": []
  },
  {
   "cell_type": "code",
   "execution_count": null,
   "id": "0235f614",
   "metadata": {},
   "outputs": [],
   "source": []
  },
  {
   "cell_type": "code",
   "execution_count": null,
   "id": "b5e37bff",
   "metadata": {},
   "outputs": [],
   "source": []
  }
 ],
 "metadata": {
  "kernelspec": {
   "display_name": "Python 3 (ipykernel)",
   "language": "python",
   "name": "python3"
  },
  "language_info": {
   "codemirror_mode": {
    "name": "ipython",
    "version": 3
   },
   "file_extension": ".py",
   "mimetype": "text/x-python",
   "name": "python",
   "nbconvert_exporter": "python",
   "pygments_lexer": "ipython3",
   "version": "3.10.0"
  }
 },
 "nbformat": 4,
 "nbformat_minor": 5
}
