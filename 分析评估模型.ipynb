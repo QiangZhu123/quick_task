{
 "cells": [
  {
   "cell_type": "markdown",
   "id": "176c177c",
   "metadata": {},
   "source": [
    "# 计算模型FLOPS"
   ]
  },
  {
   "cell_type": "code",
   "execution_count": 2,
   "id": "816977b7",
   "metadata": {},
   "outputs": [
    {
     "ename": "ModuleNotFoundError",
     "evalue": "No module named 'mmcv'",
     "output_type": "error",
     "traceback": [
      "\u001b[1;31m---------------------------------------------------------------------------\u001b[0m",
      "\u001b[1;31mModuleNotFoundError\u001b[0m                       Traceback (most recent call last)",
      "\u001b[1;32m<ipython-input-2-89a5149e7710>\u001b[0m in \u001b[0;36m<module>\u001b[1;34m\u001b[0m\n\u001b[1;32m----> 1\u001b[1;33m \u001b[1;32mfrom\u001b[0m \u001b[0mmmcv\u001b[0m\u001b[1;33m.\u001b[0m\u001b[0mcnn\u001b[0m\u001b[1;33m.\u001b[0m\u001b[0mutils\u001b[0m \u001b[1;32mimport\u001b[0m \u001b[0mget_model_complexity_info\u001b[0m\u001b[1;33m\u001b[0m\u001b[1;33m\u001b[0m\u001b[0m\n\u001b[0m\u001b[0;32m      2\u001b[0m \u001b[1;31m#查看函数支持计算的层有哪些\u001b[0m\u001b[1;33m\u001b[0m\u001b[1;33m\u001b[0m\u001b[1;33m\u001b[0m\u001b[0m\n\u001b[0;32m      3\u001b[0m \u001b[1;33m\u001b[0m\u001b[0m\n\u001b[0;32m      4\u001b[0m \u001b[1;33m\u001b[0m\u001b[0m\n\u001b[0;32m      5\u001b[0m \u001b[0mget_model_complexity_info\u001b[0m\u001b[1;33m(\u001b[0m\u001b[0mmo\u001b[0m\u001b[1;33m,\u001b[0m\u001b[1;33m(\u001b[0m\u001b[1;36m3\u001b[0m\u001b[1;33m,\u001b[0m\u001b[1;36m224\u001b[0m\u001b[1;33m,\u001b[0m\u001b[1;36m224\u001b[0m\u001b[1;33m)\u001b[0m\u001b[1;33m)\u001b[0m\u001b[1;33m\u001b[0m\u001b[1;33m\u001b[0m\u001b[0m\n",
      "\u001b[1;31mModuleNotFoundError\u001b[0m: No module named 'mmcv'"
     ]
    }
   ],
   "source": [
    "from mmcv.cnn.utils import get_model_complexity_info\n",
    "#查看函数支持计算的层有哪些\n",
    "#model.forward = model.forward_dummy\n",
    "\n",
    "get_model_complexity_info(mo,(3,224,224))"
   ]
  },
  {
   "cell_type": "markdown",
   "id": "e3638ff3",
   "metadata": {},
   "source": [
    "# 分析日志"
   ]
  },
  {
   "cell_type": "code",
   "execution_count": 3,
   "id": "974c6833",
   "metadata": {},
   "outputs": [
    {
     "name": "stdout",
     "output_type": "stream",
     "text": [
      "^C\n"
     ]
    },
    {
     "name": "stderr",
     "output_type": "stream",
     "text": [
      "python: can't open file 'tools/analysis_tools/analyze_logs.py': [Errno 2] No such file or directory\n"
     ]
    }
   ],
   "source": [
    "#给定.json格式的日志文件，用\n",
    "!pip install seaborn\n",
    "#python tools/analysis_tools/analyze_logs.py plot_curve [--keys ${KEYS}] [--title ${TITLE}] [--legend ${LEGEND}] [--backend ${BACKEND}] [--style ${STYLE}] [--out ${OUT_FILE}]\n",
    "#python tools/analysis_tools/analyze_logs.py plot_curve log1.json log2.json --keys bbox_mAP --legend run1 run2\n",
    "!python tools/analysis_tools/analyze_logs.py 'plot_curve' \\\n",
    "                            detr_r50_8x2_150e_coco_20201130_194835.log.json \\\n",
    "                            --legend 'test' \\\n",
    "                            --out '/kaggle/working/mmdetection'"
   ]
  },
  {
   "cell_type": "markdown",
   "id": "6dca19e9",
   "metadata": {},
   "source": [
    "# 分析结果"
   ]
  },
  {
   "cell_type": "code",
   "execution_count": null,
   "id": "05baa471",
   "metadata": {},
   "outputs": [],
   "source": []
  },
  {
   "cell_type": "markdown",
   "id": "da3d6573",
   "metadata": {},
   "source": [
    "# 错误分析"
   ]
  },
  {
   "cell_type": "code",
   "execution_count": 1,
   "id": "bfb9c7d2",
   "metadata": {},
   "outputs": [],
   "source": [
    "from mmengine import Config\n",
    "from mmdet.registry import MODELS\n",
    "from mmdet.models.data_preprocessors import DetDataPreprocessor\n",
    "from mmdet.utils import register_all_modules"
   ]
  },
  {
   "cell_type": "code",
   "execution_count": 2,
   "id": "27dec2e2",
   "metadata": {},
   "outputs": [],
   "source": [
    "register_all_modules()\n",
    "config_path =r'F:\\bag\\mm\\mmdetection-main\\configs\\fcos\\fcos_r50-caffe_fpn_gn-head_1x_coco.py'\n",
    "config_path2 = r'F:/bag/mm/mmdetection-main/configs/efficientnet/retinanet_effb3_fpn_8xb4-crop896-1x_coco.py'"
   ]
  },
  {
   "cell_type": "code",
   "execution_count": 3,
   "id": "82e3462d",
   "metadata": {},
   "outputs": [],
   "source": [
    "cfg = Config.fromfile(config_path)"
   ]
  },
  {
   "cell_type": "code",
   "execution_count": 4,
   "id": "e04ebbed",
   "metadata": {},
   "outputs": [],
   "source": [
    "cfg2 = Config.fromfile(config_path2)"
   ]
  },
  {
   "cell_type": "code",
   "execution_count": 5,
   "id": "5caaf9b3",
   "metadata": {},
   "outputs": [],
   "source": [
    "cfg2.model.bbox_head=cfg.model.bbox_head\n",
    "cfg2.model.bbox_head.loss_bbox.type='DIoULoss'"
   ]
  },
  {
   "cell_type": "code",
   "execution_count": 20,
   "id": "5dfdae45",
   "metadata": {},
   "outputs": [],
   "source": [
    "m = MODELS.build(cfg2.model)"
   ]
  },
  {
   "cell_type": "code",
   "execution_count": null,
   "id": "f5fd1f38",
   "metadata": {},
   "outputs": [],
   "source": [
    "from mmdeploy.apis import torch2onnx\n",
    "img = 'F:/bag/mm/mmdetection-main/demo/demo.jpg'\n",
    "work_dir = 'work_dir'\n",
    "save_file = 'fcos.onnx'\n",
    "deploy_cfg = ('F:/bag/mmdeploy-main/configs/mmdet/detection/detection_onnxruntime_static.py')\n",
    "model_cfg = cfg2\n",
    "#model_checkpoint = ('checkpoints/fcos_r50_caffe_fpn_gn-head_1x_coco-821213aa.pth')\n",
    "device = 'cpu'\n",
    "torch2onnx(img, work_dir, save_file, deploy_cfg, model_cfg, \n",
    "          device=device\n",
    "          )"
   ]
  },
  {
   "cell_type": "code",
   "execution_count": 23,
   "id": "d6726e15",
   "metadata": {},
   "outputs": [
    {
     "data": {
      "text/plain": [
       "'D:\\\\myjupyter\\\\深度学习\\\\任务\\\\定位'"
      ]
     },
     "execution_count": 23,
     "metadata": {},
     "output_type": "execute_result"
    }
   ],
   "source": [
    "pwd"
   ]
  },
  {
   "cell_type": "code",
   "execution_count": null,
   "id": "fde52b1e",
   "metadata": {},
   "outputs": [],
   "source": []
  },
  {
   "cell_type": "code",
   "execution_count": null,
   "id": "33ad3067",
   "metadata": {},
   "outputs": [],
   "source": []
  },
  {
   "cell_type": "code",
   "execution_count": null,
   "id": "65630954",
   "metadata": {},
   "outputs": [],
   "source": []
  },
  {
   "cell_type": "code",
   "execution_count": null,
   "id": "16130cac",
   "metadata": {},
   "outputs": [],
   "source": []
  },
  {
   "cell_type": "code",
   "execution_count": null,
   "id": "9dea6444",
   "metadata": {},
   "outputs": [],
   "source": []
  },
  {
   "cell_type": "code",
   "execution_count": null,
   "id": "048ccb28",
   "metadata": {},
   "outputs": [],
   "source": []
  },
  {
   "cell_type": "code",
   "execution_count": null,
   "id": "c7e415f8",
   "metadata": {},
   "outputs": [],
   "source": []
  },
  {
   "cell_type": "code",
   "execution_count": null,
   "id": "bb63ef0d",
   "metadata": {},
   "outputs": [],
   "source": []
  },
  {
   "cell_type": "code",
   "execution_count": null,
   "id": "106c004f",
   "metadata": {},
   "outputs": [],
   "source": []
  },
  {
   "cell_type": "code",
   "execution_count": null,
   "id": "5fadd62c",
   "metadata": {},
   "outputs": [],
   "source": []
  },
  {
   "cell_type": "code",
   "execution_count": null,
   "id": "4087b8a9",
   "metadata": {},
   "outputs": [],
   "source": []
  },
  {
   "cell_type": "code",
   "execution_count": null,
   "id": "701da895",
   "metadata": {},
   "outputs": [],
   "source": []
  },
  {
   "cell_type": "code",
   "execution_count": null,
   "id": "8dd52fc0",
   "metadata": {},
   "outputs": [],
   "source": []
  },
  {
   "cell_type": "code",
   "execution_count": null,
   "id": "866f5973",
   "metadata": {},
   "outputs": [],
   "source": []
  }
 ],
 "metadata": {
  "kernelspec": {
   "display_name": "Python 3 (ipykernel)",
   "language": "python",
   "name": "python3"
  },
  "language_info": {
   "codemirror_mode": {
    "name": "ipython",
    "version": 3
   },
   "file_extension": ".py",
   "mimetype": "text/x-python",
   "name": "python",
   "nbconvert_exporter": "python",
   "pygments_lexer": "ipython3",
   "version": "3.10.0"
  }
 },
 "nbformat": 4,
 "nbformat_minor": 5
}
